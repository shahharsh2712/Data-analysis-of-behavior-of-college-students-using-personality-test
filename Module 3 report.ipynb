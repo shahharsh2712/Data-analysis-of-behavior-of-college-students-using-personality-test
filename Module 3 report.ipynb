{
 "cells": [
  {
   "cell_type": "markdown",
   "metadata": {},
   "source": [
    "# Study to analyse certain behaviours of College Students"
   ]
  },
  {
   "cell_type": "markdown",
   "metadata": {},
   "source": [
    "#### Harsh Shah"
   ]
  },
  {
   "cell_type": "markdown",
   "metadata": {},
   "source": [
    "## Objective"
   ]
  },
  {
   "cell_type": "markdown",
   "metadata": {},
   "source": [
    "College Students face immense pressure in multiple dimensions of life. They are expected to perform well in studies, they have relationship issues, there are financial constraints and many more. So it is very important to be mentally fit in order to deal with these situations.\n",
    "\n",
    "In order to help College students, the psychology department in the San Francisco County of Education is conducting a study to analyze certin behaviours on college students. They have gathered data by conducting a personality test in which questions were being asked about how likely they are to behave in a certain situation and the students had to rate from 1 to 10.\n",
    "\n",
    "The purpose of this research is to understand the data and develop models which helps to predict certain behaviours of college students based on their other behaviours. In particular, the research is focussed to build models that predicts which behaviours help in stayng calm under a lot of pressure. "
   ]
  },
  {
   "cell_type": "code",
   "execution_count": 486,
   "metadata": {},
   "outputs": [],
   "source": [
    "#Load packages\n",
    "library(tidyverse)"
   ]
  },
  {
   "cell_type": "code",
   "execution_count": 505,
   "metadata": {},
   "outputs": [],
   "source": [
    "#Load personality test data\n",
    "p_data <- read.csv(\"Personality Test.csv\")"
   ]
  },
  {
   "cell_type": "markdown",
   "metadata": {},
   "source": [
    "## Data Exploration(1/4)"
   ]
  },
  {
   "cell_type": "code",
   "execution_count": 506,
   "metadata": {},
   "outputs": [
    {
     "data": {
      "text/html": [
       "<table>\n",
       "<thead><tr><th scope=col>P1</th><th scope=col>P2.</th><th scope=col>P3</th><th scope=col>P4</th><th scope=col>P5</th><th scope=col>P6</th><th scope=col>P7</th><th scope=col>P8</th><th scope=col>P9</th><th scope=col>P10</th><th scope=col>...</th><th scope=col>P41</th><th scope=col>P42</th><th scope=col>P43</th><th scope=col>P44</th><th scope=col>P45</th><th scope=col>P46</th><th scope=col>P47</th><th scope=col>P48</th><th scope=col>P49</th><th scope=col>P50</th></tr></thead>\n",
       "<tbody>\n",
       "\t<tr><td>3.0       </td><td> 8.6      </td><td> 6.30     </td><td>9.90000   </td><td> 7.200000 </td><td> 8.6000000</td><td>10.00000  </td><td> 8.600000 </td><td> 9.000000 </td><td>1.0       </td><td>...       </td><td>6.90      </td><td>7.4       </td><td>1.200     </td><td> 9.90000  </td><td>10.00     </td><td>7.5       </td><td>5.50      </td><td>8.600     </td><td>4.7000    </td><td>8.900     </td></tr>\n",
       "\t<tr><td>6.5       </td><td> 4.5      </td><td> 3.20     </td><td>8.30000   </td><td> 4.560000 </td><td> 3.8000000</td><td> 2.11000  </td><td> 9.810000 </td><td> 7.550000 </td><td>8.3       </td><td>...       </td><td>4.36      </td><td>5.33      </td><td>6.300     </td><td> 8.00000  </td><td> 7.65     </td><td>          </td><td>8.30      </td><td>6.660     </td><td>5.3300    </td><td>4.890     </td></tr>\n",
       "\t<tr><td>3.0       </td><td> 7.0      </td><td> 1.00     </td><td>7.00000   </td><td> 3.000000 </td><td> 5.0000000</td><td> 8.00000  </td><td> 9.000000 </td><td> 5.000000 </td><td>2.0       </td><td>...       </td><td>5.00      </td><td>6         </td><td>2.000     </td><td> 2.00000  </td><td> 3.00     </td><td>5         </td><td>3.00      </td><td>5.000     </td><td>5.0000    </td><td>7.000     </td></tr>\n",
       "\t<tr><td>3.8       </td><td> 4.7      </td><td> 4.00     </td><td>8.00000   </td><td> 3.000000 </td><td> 3.0000000</td><td> 9.00000  </td><td>10.000000 </td><td> 4.500000 </td><td>1.0       </td><td>...       </td><td>6.50      </td><td>5         </td><td>9.000     </td><td> 1.00000  </td><td> 2.50     </td><td>5         </td><td>7.00      </td><td>8.000     </td><td>7.0000    </td><td>1.000     </td></tr>\n",
       "\t<tr><td>4.0       </td><td> 9.7      </td><td> 3.30     </td><td>4.60000   </td><td> 7.876543 </td><td> 9.9000000</td><td> 0.40000  </td><td> 7.200000 </td><td> 4.640000 </td><td>2.2       </td><td>...       </td><td>9.60      </td><td>5.5       </td><td>1.200     </td><td>10.00000  </td><td> 2.00     </td><td>4         </td><td>1.00      </td><td>6.120     </td><td>1.9100    </td><td>2.000     </td></tr>\n",
       "\t<tr><td>7.0       </td><td> 1.1      </td><td> 7.95     </td><td>9.98756   </td><td> 8.729400 </td><td> 5.8213000</td><td> 9.99999  </td><td> 7.898903 </td><td> 1.192341 </td><td>1.0       </td><td>...       </td><td>1.20      </td><td>6.78      </td><td>3.123     </td><td> 7.99129  </td><td>10.00     </td><td>9.9999    </td><td>5.64      </td><td>6.897     </td><td>8.9768    </td><td>8.679     </td></tr>\n",
       "\t<tr><td>8.0       </td><td>10.0      </td><td> 3.50     </td><td>3.30000   </td><td> 5.000000 </td><td> 0.3300000</td><td> 2.33330  </td><td> 6.600000 </td><td> 9.000000 </td><td>0.0       </td><td>...       </td><td>8.00      </td><td>3         </td><td>5.000     </td><td> 7.67600  </td><td> 1.00     </td><td>5         </td><td>6.00      </td><td>4.670     </td><td>2.0000    </td><td>1.000     </td></tr>\n",
       "\t<tr><td>5.0       </td><td> 2.0      </td><td>10.00     </td><td>1.00000   </td><td>10.000000 </td><td>10.0000000</td><td> 5.00000  </td><td>10.000000 </td><td>10.000000 </td><td>1.0       </td><td>...       </td><td>5.00      </td><td>5         </td><td>5.000     </td><td> 5.00000  </td><td>   NA     </td><td>5         </td><td>5.00      </td><td>5.000     </td><td>5.0000    </td><td>5.000     </td></tr>\n",
       "\t<tr><td>7.0       </td><td> 7.0      </td><td> 3.50     </td><td>6.50000   </td><td>10.000000 </td><td> 0.0000001</td><td> 6.77777  </td><td> 4.500000 </td><td> 7.600000 </td><td>3.0       </td><td>...       </td><td>7.50      </td><td>4         </td><td>7.000     </td><td> 5.60000  </td><td> 8.50     </td><td>5         </td><td>5.00      </td><td>7.600     </td><td>7.8000    </td><td>4.000     </td></tr>\n",
       "\t<tr><td>2.1       </td><td> 7.2      </td><td> 8.40     </td><td>9.90000   </td><td> 5.500000 </td><td> 3.7000000</td><td> 8.50000  </td><td> 7.100000 </td><td> 1.100000 </td><td>2.1       </td><td>...       </td><td>1.50      </td><td>3         </td><td>4.600     </td><td> 4.30000  </td><td> 8.90     </td><td>2.1       </td><td>4.80      </td><td>7.100     </td><td>5.6000    </td><td>3.200     </td></tr>\n",
       "</tbody>\n",
       "</table>\n"
      ],
      "text/latex": [
       "\\begin{tabular}{r|llllllllllllllllllllllllllllllllllllllllllllllllll}\n",
       " P1 & P2. & P3 & P4 & P5 & P6 & P7 & P8 & P9 & P10 & ... & P41 & P42 & P43 & P44 & P45 & P46 & P47 & P48 & P49 & P50\\\\\n",
       "\\hline\n",
       "\t 3.0        &  8.6       &  6.30      & 9.90000    &  7.200000  &  8.6000000 & 10.00000   &  8.600000  &  9.000000  & 1.0        & ...        & 6.90       & 7.4        & 1.200      &  9.90000   & 10.00      & 7.5        & 5.50       & 8.600      & 4.7000     & 8.900     \\\\\n",
       "\t 6.5        &  4.5       &  3.20      & 8.30000    &  4.560000  &  3.8000000 &  2.11000   &  9.810000  &  7.550000  & 8.3        & ...        & 4.36       & 5.33       & 6.300      &  8.00000   &  7.65      &            & 8.30       & 6.660      & 5.3300     & 4.890     \\\\\n",
       "\t 3.0        &  7.0       &  1.00      & 7.00000    &  3.000000  &  5.0000000 &  8.00000   &  9.000000  &  5.000000  & 2.0        & ...        & 5.00       & 6          & 2.000      &  2.00000   &  3.00      & 5          & 3.00       & 5.000      & 5.0000     & 7.000     \\\\\n",
       "\t 3.8        &  4.7       &  4.00      & 8.00000    &  3.000000  &  3.0000000 &  9.00000   & 10.000000  &  4.500000  & 1.0        & ...        & 6.50       & 5          & 9.000      &  1.00000   &  2.50      & 5          & 7.00       & 8.000      & 7.0000     & 1.000     \\\\\n",
       "\t 4.0        &  9.7       &  3.30      & 4.60000    &  7.876543  &  9.9000000 &  0.40000   &  7.200000  &  4.640000  & 2.2        & ...        & 9.60       & 5.5        & 1.200      & 10.00000   &  2.00      & 4          & 1.00       & 6.120      & 1.9100     & 2.000     \\\\\n",
       "\t 7.0        &  1.1       &  7.95      & 9.98756    &  8.729400  &  5.8213000 &  9.99999   &  7.898903  &  1.192341  & 1.0        & ...        & 1.20       & 6.78       & 3.123      &  7.99129   & 10.00      & 9.9999     & 5.64       & 6.897      & 8.9768     & 8.679     \\\\\n",
       "\t 8.0        & 10.0       &  3.50      & 3.30000    &  5.000000  &  0.3300000 &  2.33330   &  6.600000  &  9.000000  & 0.0        & ...        & 8.00       & 3          & 5.000      &  7.67600   &  1.00      & 5          & 6.00       & 4.670      & 2.0000     & 1.000     \\\\\n",
       "\t 5.0        &  2.0       & 10.00      & 1.00000    & 10.000000  & 10.0000000 &  5.00000   & 10.000000  & 10.000000  & 1.0        & ...        & 5.00       & 5          & 5.000      &  5.00000   &    NA      & 5          & 5.00       & 5.000      & 5.0000     & 5.000     \\\\\n",
       "\t 7.0        &  7.0       &  3.50      & 6.50000    & 10.000000  &  0.0000001 &  6.77777   &  4.500000  &  7.600000  & 3.0        & ...        & 7.50       & 4          & 7.000      &  5.60000   &  8.50      & 5          & 5.00       & 7.600      & 7.8000     & 4.000     \\\\\n",
       "\t 2.1        &  7.2       &  8.40      & 9.90000    &  5.500000  &  3.7000000 &  8.50000   &  7.100000  &  1.100000  & 2.1        & ...        & 1.50       & 3          & 4.600      &  4.30000   &  8.90      & 2.1        & 4.80       & 7.100      & 5.6000     & 3.200     \\\\\n",
       "\\end{tabular}\n"
      ],
      "text/markdown": [
       "\n",
       "| P1 | P2. | P3 | P4 | P5 | P6 | P7 | P8 | P9 | P10 | ... | P41 | P42 | P43 | P44 | P45 | P46 | P47 | P48 | P49 | P50 |\n",
       "|---|---|---|---|---|---|---|---|---|---|---|---|---|---|---|---|---|---|---|---|---|\n",
       "| 3.0        |  8.6       |  6.30      | 9.90000    |  7.200000  |  8.6000000 | 10.00000   |  8.600000  |  9.000000  | 1.0        | ...        | 6.90       | 7.4        | 1.200      |  9.90000   | 10.00      | 7.5        | 5.50       | 8.600      | 4.7000     | 8.900      |\n",
       "| 6.5        |  4.5       |  3.20      | 8.30000    |  4.560000  |  3.8000000 |  2.11000   |  9.810000  |  7.550000  | 8.3        | ...        | 4.36       | 5.33       | 6.300      |  8.00000   |  7.65      |            | 8.30       | 6.660      | 5.3300     | 4.890      |\n",
       "| 3.0        |  7.0       |  1.00      | 7.00000    |  3.000000  |  5.0000000 |  8.00000   |  9.000000  |  5.000000  | 2.0        | ...        | 5.00       | 6          | 2.000      |  2.00000   |  3.00      | 5          | 3.00       | 5.000      | 5.0000     | 7.000      |\n",
       "| 3.8        |  4.7       |  4.00      | 8.00000    |  3.000000  |  3.0000000 |  9.00000   | 10.000000  |  4.500000  | 1.0        | ...        | 6.50       | 5          | 9.000      |  1.00000   |  2.50      | 5          | 7.00       | 8.000      | 7.0000     | 1.000      |\n",
       "| 4.0        |  9.7       |  3.30      | 4.60000    |  7.876543  |  9.9000000 |  0.40000   |  7.200000  |  4.640000  | 2.2        | ...        | 9.60       | 5.5        | 1.200      | 10.00000   |  2.00      | 4          | 1.00       | 6.120      | 1.9100     | 2.000      |\n",
       "| 7.0        |  1.1       |  7.95      | 9.98756    |  8.729400  |  5.8213000 |  9.99999   |  7.898903  |  1.192341  | 1.0        | ...        | 1.20       | 6.78       | 3.123      |  7.99129   | 10.00      | 9.9999     | 5.64       | 6.897      | 8.9768     | 8.679      |\n",
       "| 8.0        | 10.0       |  3.50      | 3.30000    |  5.000000  |  0.3300000 |  2.33330   |  6.600000  |  9.000000  | 0.0        | ...        | 8.00       | 3          | 5.000      |  7.67600   |  1.00      | 5          | 6.00       | 4.670      | 2.0000     | 1.000      |\n",
       "| 5.0        |  2.0       | 10.00      | 1.00000    | 10.000000  | 10.0000000 |  5.00000   | 10.000000  | 10.000000  | 1.0        | ...        | 5.00       | 5          | 5.000      |  5.00000   |    NA      | 5          | 5.00       | 5.000      | 5.0000     | 5.000      |\n",
       "| 7.0        |  7.0       |  3.50      | 6.50000    | 10.000000  |  0.0000001 |  6.77777   |  4.500000  |  7.600000  | 3.0        | ...        | 7.50       | 4          | 7.000      |  5.60000   |  8.50      | 5          | 5.00       | 7.600      | 7.8000     | 4.000      |\n",
       "| 2.1        |  7.2       |  8.40      | 9.90000    |  5.500000  |  3.7000000 |  8.50000   |  7.100000  |  1.100000  | 2.1        | ...        | 1.50       | 3          | 4.600      |  4.30000   |  8.90      | 2.1        | 4.80       | 7.100      | 5.6000     | 3.200      |\n",
       "\n"
      ],
      "text/plain": [
       "   P1  P2.  P3    P4      P5        P6         P7       P8        P9        P10\n",
       "1  3.0  8.6  6.30 9.90000  7.200000  8.6000000 10.00000  8.600000  9.000000 1.0\n",
       "2  6.5  4.5  3.20 8.30000  4.560000  3.8000000  2.11000  9.810000  7.550000 8.3\n",
       "3  3.0  7.0  1.00 7.00000  3.000000  5.0000000  8.00000  9.000000  5.000000 2.0\n",
       "4  3.8  4.7  4.00 8.00000  3.000000  3.0000000  9.00000 10.000000  4.500000 1.0\n",
       "5  4.0  9.7  3.30 4.60000  7.876543  9.9000000  0.40000  7.200000  4.640000 2.2\n",
       "6  7.0  1.1  7.95 9.98756  8.729400  5.8213000  9.99999  7.898903  1.192341 1.0\n",
       "7  8.0 10.0  3.50 3.30000  5.000000  0.3300000  2.33330  6.600000  9.000000 0.0\n",
       "8  5.0  2.0 10.00 1.00000 10.000000 10.0000000  5.00000 10.000000 10.000000 1.0\n",
       "9  7.0  7.0  3.50 6.50000 10.000000  0.0000001  6.77777  4.500000  7.600000 3.0\n",
       "10 2.1  7.2  8.40 9.90000  5.500000  3.7000000  8.50000  7.100000  1.100000 2.1\n",
       "   ... P41  P42  P43   P44      P45   P46    P47  P48   P49    P50  \n",
       "1  ... 6.90 7.4  1.200  9.90000 10.00 7.5    5.50 8.600 4.7000 8.900\n",
       "2  ... 4.36 5.33 6.300  8.00000  7.65        8.30 6.660 5.3300 4.890\n",
       "3  ... 5.00 6    2.000  2.00000  3.00 5      3.00 5.000 5.0000 7.000\n",
       "4  ... 6.50 5    9.000  1.00000  2.50 5      7.00 8.000 7.0000 1.000\n",
       "5  ... 9.60 5.5  1.200 10.00000  2.00 4      1.00 6.120 1.9100 2.000\n",
       "6  ... 1.20 6.78 3.123  7.99129 10.00 9.9999 5.64 6.897 8.9768 8.679\n",
       "7  ... 8.00 3    5.000  7.67600  1.00 5      6.00 4.670 2.0000 1.000\n",
       "8  ... 5.00 5    5.000  5.00000    NA 5      5.00 5.000 5.0000 5.000\n",
       "9  ... 7.50 4    7.000  5.60000  8.50 5      5.00 7.600 7.8000 4.000\n",
       "10 ... 1.50 3    4.600  4.30000  8.90 2.1    4.80 7.100 5.6000 3.200"
      ]
     },
     "metadata": {},
     "output_type": "display_data"
    }
   ],
   "source": [
    "#First 10 rows\n",
    "head(p_data, 10)"
   ]
  },
  {
   "cell_type": "markdown",
   "metadata": {},
   "source": [
    "Here, there are 50 columns that represents 50 different questions that are rated from 1-10 representing College students behaviour in different situations. "
   ]
  },
  {
   "cell_type": "markdown",
   "metadata": {},
   "source": [
    "## Data Exploration (2/4)"
   ]
  },
  {
   "cell_type": "code",
   "execution_count": 507,
   "metadata": {},
   "outputs": [
    {
     "name": "stdout",
     "output_type": "stream",
     "text": [
      "'data.frame':\t32 obs. of  50 variables:\n",
      " $ P1  : num  3 6.5 3 3.8 4 7 8 5 7 2.1 ...\n",
      " $ P2. : num  8.6 4.5 7 4.7 9.7 1.1 10 2 7 7.2 ...\n",
      " $ P3  : num  6.3 3.2 1 4 3.3 7.95 3.5 10 3.5 8.4 ...\n",
      " $ P4  : num  9.9 8.3 7 8 4.6 ...\n",
      " $ P5  : num  7.2 4.56 3 3 7.88 ...\n",
      " $ P6  : num  8.6 3.8 5 3 9.9 ...\n",
      " $ P7  : num  10 2.11 8 9 0.4 ...\n",
      " $ P8  : num  8.6 9.81 9 10 7.2 ...\n",
      " $ P9  : num  9 7.55 5 4.5 4.64 ...\n",
      " $ P10 : num  1 8.3 2 1 2.2 ...\n",
      " $ P11 : num  6.8 5.2 5 8 NA ...\n",
      " $ P12 : num  9.7 8.95 NA 7.5 2.22 ...\n",
      " $ P13 : num  6.9 9.8 10 NA 6.97 ...\n",
      " $ P14 : num  3.5 7.61 2 8 2.05 ...\n",
      " $ P15 : num  9.6 6.2 6 9 7 ...\n",
      " $ P16 : num  4.5 3.2 1 7 4.8 ...\n",
      " $ P17 : num  7.5 4.65 8 1 7.98 ...\n",
      " $ P18 : num  8.3 5.5 2 1 9.5 ...\n",
      " $ P19 : num  10 4.33 3 4 9.7 ...\n",
      " $ P20 : num  1 1 2 9 4 ...\n",
      " $ P21 : num  4.8 8 5 6 3.79 ...\n",
      " $ P22 : num  3.2 9.88 6 9 8.1 ...\n",
      " $ P23 : num  2.3 9.56 8 9 4.2 4.35 8 5 4.9 7.7 ...\n",
      " $ P24 : num  1 5 3 10 1 ...\n",
      " $ P25 : num  2 8.3 9 1 3 5.55 10 10 6.8 1.2 ...\n",
      " $ P26 : num  1.4 7.5 3 9 3.5 ...\n",
      " $ P27 : num  8.5 8.7 5 3 10 ...\n",
      " $ P28 : num  2.5 8.66 7 1 1.4 6.54 5 5 6 5.5 ...\n",
      " $ P29 : num  3.4 4.3 5 9 1 5.45 7 5 4 3.4 ...\n",
      " $ P30 : num  1 3.2 1 10 2 3.24 9 5 4 1.1 ...\n",
      " $ P31.: num  1.6 3.2 2 7 1.2 4.02 7 5 6 6.2 ...\n",
      " $ P32 : num  3.6 3.1 8 7 6.8 2.67 9 5 5 8.3 ...\n",
      " $ P33 : num  8.4 7.3 4 10 9.7 ...\n",
      " $ P34 : num  8.3 7.89 4 3 5 ...\n",
      " $ P35 : num  4.6 9.3 4 5 2.06 ...\n",
      " $ P36 : num  7.5 7.65 7 5 6.93 ...\n",
      " $ P37 : num  3.8 9.88 6 1 1.3 ...\n",
      " $ P38 : num  2.3 1.33 2 10 7 1 2.7 5 4 3.33 ...\n",
      " $ P39 : num  9.5 7.65 8 1 9 ...\n",
      " $ P40 : num  1.4 6.63 3 10 1 ...\n",
      " $ P41 : num  6.9 4.36 5 6.5 9.6 1.2 8 5 7.5 1.5 ...\n",
      " $ P42 : Factor w/ 24 levels \"10\",\"2.3\",\"3\",..: 15 7 9 5 8 12 3 5 4 3 ...\n",
      " $ P43 : num  1.2 6.3 2 9 1.2 ...\n",
      " $ P44 : num  9.9 8 2 1 10 ...\n",
      " $ P45 : num  10 7.65 3 2.5 2 10 1 NA 8.5 8.9 ...\n",
      " $ P46 : Factor w/ 20 levels \"\",\"1\",\"10\",\"2.1\",..: 16 1 13 13 9 19 13 13 13 4 ...\n",
      " $ P47 : num  5.5 8.3 3 7 1 5.64 6 5 5 4.8 ...\n",
      " $ P48 : num  8.6 6.66 5 8 6.12 ...\n",
      " $ P49 : num  4.7 5.33 5 7 1.91 ...\n",
      " $ P50 : num  8.9 4.89 7 1 2 ...\n"
     ]
    }
   ],
   "source": [
    "str(p_data)"
   ]
  },
  {
   "cell_type": "markdown",
   "metadata": {},
   "source": [
    "Here, we can see, there are observations which are empty or have NA values. There are values which are out of the range of ratings from 1 to 10. There are two columns P42 and P46 which are factors. We need to convert them to numeric. Also, we need to clean the data and bring all the values in range 1-10."
   ]
  },
  {
   "cell_type": "code",
   "execution_count": 508,
   "metadata": {},
   "outputs": [
    {
     "data": {
      "text/html": [
       "'numeric'"
      ],
      "text/latex": [
       "'numeric'"
      ],
      "text/markdown": [
       "'numeric'"
      ],
      "text/plain": [
       "[1] \"numeric\""
      ]
     },
     "metadata": {},
     "output_type": "display_data"
    }
   ],
   "source": [
    "#Converting factors to numeric\n",
    "p_data$P42 <- as.numeric(p_data$P42)\n",
    "p_data$P46 <- as.numeric(p_data$P46)\n",
    "class(c(p_data$P42, p_data$P46))"
   ]
  },
  {
   "cell_type": "markdown",
   "metadata": {},
   "source": [
    "## Data Exploration(3/4)"
   ]
  },
  {
   "cell_type": "code",
   "execution_count": 509,
   "metadata": {},
   "outputs": [
    {
     "data": {
      "text/plain": [
       "\n",
       "FALSE  TRUE \n",
       " 1570    30 "
      ]
     },
     "metadata": {},
     "output_type": "display_data"
    }
   ],
   "source": [
    "#Counting number of NAs\n",
    "table(is.na(p_data))"
   ]
  },
  {
   "cell_type": "markdown",
   "metadata": {},
   "source": [
    "There are 30 NA values in data."
   ]
  },
  {
   "cell_type": "code",
   "execution_count": 510,
   "metadata": {},
   "outputs": [
    {
     "data": {
      "text/plain": [
       "\n",
       "FALSE \n",
       " 1600 "
      ]
     },
     "metadata": {},
     "output_type": "display_data"
    }
   ],
   "source": [
    "p_data[is.na(p_data)] <- 5\n",
    "table(is.na(p_data))"
   ]
  },
  {
   "cell_type": "markdown",
   "metadata": {},
   "source": [
    "Here, all NA values are converted to 5 as it is assumed that students were not sure about that question and so have left empty. In that case, 5 will be the best choice as psychologically it is filled by students who are undecided about that question."
   ]
  },
  {
   "cell_type": "markdown",
   "metadata": {},
   "source": [
    "## Data Exploration(4/4)"
   ]
  },
  {
   "cell_type": "code",
   "execution_count": 511,
   "metadata": {},
   "outputs": [
    {
     "data": {
      "text/plain": [
       "\n",
       "FALSE  TRUE \n",
       " 1572    28 "
      ]
     },
     "metadata": {},
     "output_type": "display_data"
    },
    {
     "data": {
      "text/plain": [
       "\n",
       "FALSE  TRUE \n",
       " 1566    34 "
      ]
     },
     "metadata": {},
     "output_type": "display_data"
    }
   ],
   "source": [
    "table(p_data < 1)\n",
    "table(p_data > 10)"
   ]
  },
  {
   "cell_type": "markdown",
   "metadata": {},
   "source": [
    "Here, it can be seen that there are 28 values less than 1 and 34 values greater than 10."
   ]
  },
  {
   "cell_type": "code",
   "execution_count": 512,
   "metadata": {},
   "outputs": [
    {
     "data": {
      "text/plain": [
       "\n",
       "FALSE \n",
       " 1600 "
      ]
     },
     "metadata": {},
     "output_type": "display_data"
    }
   ],
   "source": [
    "p_data[p_data < 1] <- 1\n",
    "p_data[p_data > 10] <- 10\n",
    "table(p_data < 1 & p_data > 10)"
   ]
  },
  {
   "cell_type": "markdown",
   "metadata": {},
   "source": [
    "Here, all the values less than 1 are converted to 1 as it represents most unlikely and all the values greater than 10 are converted to 10 as it represents most likely. "
   ]
  },
  {
   "cell_type": "markdown",
   "metadata": {},
   "source": [
    "## Simple Linear Regression"
   ]
  },
  {
   "cell_type": "markdown",
   "metadata": {},
   "source": [
    "To form linear regression models, I chose P17 as my target(predicted) variable. It represets assumption that \"You can stay calm under a lot of pressure\". So I want to analyze here that what are the other personality traits that helps a person remain calm under a lot of pressure. So, after running correlation tests, I have come up with this 5 different models."
   ]
  },
  {
   "cell_type": "markdown",
   "metadata": {},
   "source": [
    "### Model Building and Comparison"
   ]
  },
  {
   "cell_type": "code",
   "execution_count": 551,
   "metadata": {},
   "outputs": [
    {
     "data": {
      "text/plain": [
       "\n",
       "Call:\n",
       "lm(formula = P17 ~ P6, data = p_data)\n",
       "\n",
       "Residuals:\n",
       "    Min      1Q  Median      3Q     Max \n",
       "-4.8007 -0.8299  0.2465  1.9215  4.2377 \n",
       "\n",
       "Coefficients:\n",
       "            Estimate Std. Error t value Pr(>|t|)    \n",
       "(Intercept)   4.1295     0.9413   4.387 0.000131 ***\n",
       "P6            0.3274     0.1616   2.025 0.051819 .  \n",
       "---\n",
       "Signif. codes:  0 '***' 0.001 '**' 0.01 '*' 0.05 '.' 0.1 ' ' 1\n",
       "\n",
       "Residual standard error: 2.287 on 30 degrees of freedom\n",
       "Multiple R-squared:  0.1203,\tAdjusted R-squared:  0.09095 \n",
       "F-statistic: 4.102 on 1 and 30 DF,  p-value: 0.05182\n"
      ]
     },
     "metadata": {},
     "output_type": "display_data"
    }
   ],
   "source": [
    "model1 <- lm(P17 ~ P6, data = p_data)\n",
    "summary(model1)"
   ]
  },
  {
   "cell_type": "markdown",
   "metadata": {},
   "source": [
    "Here, we can see a positive correlation between P17 and P6, however it is not very significant as p-value is high. Also, it just explains 9% of error as can be seen from Adjusted R-squared value."
   ]
  },
  {
   "cell_type": "code",
   "execution_count": 366,
   "metadata": {},
   "outputs": [
    {
     "data": {
      "text/plain": [
       "\n",
       "Call:\n",
       "lm(formula = P17 ~ P7, data = p_data)\n",
       "\n",
       "Residuals:\n",
       "    Min      1Q  Median      3Q     Max \n",
       "-3.9071 -1.5419  0.0063  1.2753  4.0850 \n",
       "\n",
       "Coefficients:\n",
       "            Estimate Std. Error t value Pr(>|t|)    \n",
       "(Intercept)   7.1748     0.7769   9.236 2.82e-10 ***\n",
       "P7           -0.2520     0.1262  -1.997    0.055 .  \n",
       "---\n",
       "Signif. codes:  0 '***' 0.001 '**' 0.01 '*' 0.05 '.' 0.1 ' ' 1\n",
       "\n",
       "Residual standard error: 2.291 on 30 degrees of freedom\n",
       "Multiple R-squared:  0.1173,\tAdjusted R-squared:  0.08787 \n",
       "F-statistic: 3.986 on 1 and 30 DF,  p-value: 0.05501\n"
      ]
     },
     "metadata": {},
     "output_type": "display_data"
    }
   ],
   "source": [
    "model2 <- lm(P17 ~ P7, data = p_data)\n",
    "summary(model2)"
   ]
  },
  {
   "cell_type": "markdown",
   "metadata": {},
   "source": [
    "Here, we can see a negative correlation between P17 and P7 with a coefficient of -0.2520 but the p-value is high so it is not a significant case."
   ]
  },
  {
   "cell_type": "code",
   "execution_count": 367,
   "metadata": {},
   "outputs": [
    {
     "data": {
      "text/plain": [
       "\n",
       "Call:\n",
       "lm(formula = P17 ~ P14, data = p_data)\n",
       "\n",
       "Residuals:\n",
       "    Min      1Q  Median      3Q     Max \n",
       "-4.8526 -1.3687  0.4835  1.2832  3.5476 \n",
       "\n",
       "Coefficients:\n",
       "            Estimate Std. Error t value Pr(>|t|)    \n",
       "(Intercept)   7.8682     0.8179   9.620 1.12e-10 ***\n",
       "P14          -0.3354     0.1201  -2.793    0.009 ** \n",
       "---\n",
       "Signif. codes:  0 '***' 0.001 '**' 0.01 '*' 0.05 '.' 0.1 ' ' 1\n",
       "\n",
       "Residual standard error: 2.172 on 30 degrees of freedom\n",
       "Multiple R-squared:  0.2064,\tAdjusted R-squared:  0.1799 \n",
       "F-statistic: 7.801 on 1 and 30 DF,  p-value: 0.009004\n"
      ]
     },
     "metadata": {},
     "output_type": "display_data"
    }
   ],
   "source": [
    "model3 <- lm(P17 ~ P14, data = p_data)\n",
    "summary(model3)"
   ]
  },
  {
   "cell_type": "markdown",
   "metadata": {},
   "source": [
    "Again there is a negative correlation between P17 and P14 with a coefficient of -0.3354. Also, the p-value is very low with very high significance. In word, it indicates that \"People who are not bothered by mistakes they made long time ago can stay calm under a lot of pressure\". However, the model does not explain a lot of errors. "
   ]
  },
  {
   "cell_type": "code",
   "execution_count": 368,
   "metadata": {},
   "outputs": [
    {
     "data": {
      "text/plain": [
       "\n",
       "Call:\n",
       "lm(formula = P17 ~ P26, data = p_data)\n",
       "\n",
       "Residuals:\n",
       "    Min      1Q  Median      3Q     Max \n",
       "-4.7646 -1.1262  0.4367  1.2554  5.4367 \n",
       "\n",
       "Coefficients:\n",
       "            Estimate Std. Error t value Pr(>|t|)    \n",
       "(Intercept)   7.7299     0.8924   8.662 1.16e-09 ***\n",
       "P26          -0.3167     0.1348  -2.349   0.0256 *  \n",
       "---\n",
       "Signif. codes:  0 '***' 0.001 '**' 0.01 '*' 0.05 '.' 0.1 ' ' 1\n",
       "\n",
       "Residual standard error: 2.241 on 30 degrees of freedom\n",
       "Multiple R-squared:  0.1554,\tAdjusted R-squared:  0.1272 \n",
       "F-statistic: 5.519 on 1 and 30 DF,  p-value: 0.02558\n"
      ]
     },
     "metadata": {},
     "output_type": "display_data"
    }
   ],
   "source": [
    "model4 <- lm(P17 ~ P26, data = p_data)\n",
    "summary(model4)"
   ]
  },
  {
   "cell_type": "markdown",
   "metadata": {},
   "source": [
    "Here, P17 and P26 are negatively correlated. It indicates \"People who are drawn to more busy and bustling atmosphere cannot remain calm under pressure\". However, the model is not as significant as previous one."
   ]
  },
  {
   "cell_type": "code",
   "execution_count": 388,
   "metadata": {},
   "outputs": [
    {
     "data": {
      "text/plain": [
       "\n",
       "Call:\n",
       "lm(formula = P17 ~ P49, data = p_data)\n",
       "\n",
       "Residuals:\n",
       "    Min      1Q  Median      3Q     Max \n",
       "-4.0349 -1.5729  0.3362  1.5252  4.4022 \n",
       "\n",
       "Coefficients:\n",
       "            Estimate Std. Error t value Pr(>|t|)    \n",
       "(Intercept)   8.2222     0.8008  10.267 2.47e-11 ***\n",
       "P49          -0.5249     0.1574  -3.334  0.00229 ** \n",
       "---\n",
       "Signif. codes:  0 '***' 0.001 '**' 0.01 '*' 0.05 '.' 0.1 ' ' 1\n",
       "\n",
       "Residual standard error: 2.083 on 30 degrees of freedom\n",
       "Multiple R-squared:  0.2704,\tAdjusted R-squared:  0.246 \n",
       "F-statistic: 11.12 on 1 and 30 DF,  p-value: 0.002286\n"
      ]
     },
     "metadata": {},
     "output_type": "display_data"
    }
   ],
   "source": [
    "model5 <- lm(P17 ~ P49, data = p_data)\n",
    "summary(model5)"
   ]
  },
  {
   "cell_type": "markdown",
   "metadata": {},
   "source": [
    "In this model, it can be seen that P17 and P49 are negatively correlated with a coefficient of -0.5249. It indicates that *A person whose emotions control themselves more than they can control their emotions is very less likely to stay calm under high pressure situations*. This model is most significant than all the previous one as it has least p-value. Moreover, it has the better adjusted R-squared value than all the previous models."
   ]
  },
  {
   "cell_type": "code",
   "execution_count": 578,
   "metadata": {},
   "outputs": [
    {
     "data": {
      "text/html": [
       "<table>\n",
       "<thead><tr><th scope=col>Res.Df</th><th scope=col>RSS</th><th scope=col>Df</th><th scope=col>Sum of Sq</th><th scope=col>F</th><th scope=col>Pr(&gt;F)</th></tr></thead>\n",
       "<tbody>\n",
       "\t<tr><td>30        </td><td>156.8816  </td><td>NA        </td><td>        NA</td><td>NA        </td><td>NA        </td></tr>\n",
       "\t<tr><td>30        </td><td>157.4132  </td><td> 0        </td><td>-0.5316084</td><td>NA        </td><td>NA        </td></tr>\n",
       "\t<tr><td>30        </td><td>141.5277  </td><td> 0        </td><td>15.8855369</td><td>NA        </td><td>NA        </td></tr>\n",
       "\t<tr><td>30        </td><td>150.6194  </td><td> 0        </td><td>-9.0916762</td><td>NA        </td><td>NA        </td></tr>\n",
       "\t<tr><td>30        </td><td>130.1165  </td><td> 0        </td><td>20.5028814</td><td>NA        </td><td>NA        </td></tr>\n",
       "</tbody>\n",
       "</table>\n"
      ],
      "text/latex": [
       "\\begin{tabular}{r|llllll}\n",
       " Res.Df & RSS & Df & Sum of Sq & F & Pr(>F)\\\\\n",
       "\\hline\n",
       "\t 30         & 156.8816   & NA         &         NA & NA         & NA        \\\\\n",
       "\t 30         & 157.4132   &  0         & -0.5316084 & NA         & NA        \\\\\n",
       "\t 30         & 141.5277   &  0         & 15.8855369 & NA         & NA        \\\\\n",
       "\t 30         & 150.6194   &  0         & -9.0916762 & NA         & NA        \\\\\n",
       "\t 30         & 130.1165   &  0         & 20.5028814 & NA         & NA        \\\\\n",
       "\\end{tabular}\n"
      ],
      "text/markdown": [
       "\n",
       "| Res.Df | RSS | Df | Sum of Sq | F | Pr(>F) |\n",
       "|---|---|---|---|---|---|\n",
       "| 30         | 156.8816   | NA         |         NA | NA         | NA         |\n",
       "| 30         | 157.4132   |  0         | -0.5316084 | NA         | NA         |\n",
       "| 30         | 141.5277   |  0         | 15.8855369 | NA         | NA         |\n",
       "| 30         | 150.6194   |  0         | -9.0916762 | NA         | NA         |\n",
       "| 30         | 130.1165   |  0         | 20.5028814 | NA         | NA         |\n",
       "\n"
      ],
      "text/plain": [
       "  Res.Df RSS      Df Sum of Sq  F  Pr(>F)\n",
       "1 30     156.8816 NA         NA NA NA    \n",
       "2 30     157.4132  0 -0.5316084 NA NA    \n",
       "3 30     141.5277  0 15.8855369 NA NA    \n",
       "4 30     150.6194  0 -9.0916762 NA NA    \n",
       "5 30     130.1165  0 20.5028814 NA NA    "
      ]
     },
     "metadata": {},
     "output_type": "display_data"
    }
   ],
   "source": [
    "anova(model1, model2, model3, model4, model5)"
   ]
  },
  {
   "cell_type": "markdown",
   "metadata": {},
   "source": [
    "Even if we check the residual sum of squares, it can be seen that model 5 has the least of them all. So it can be said that $model5$ is the best model among simple linear regression models."
   ]
  },
  {
   "cell_type": "markdown",
   "metadata": {},
   "source": [
    "## Multiple Linear Regression"
   ]
  },
  {
   "cell_type": "markdown",
   "metadata": {},
   "source": [
    "Here, we will choose more than one predictor variables to predict P17 variable. After performing backward elimination for feature selection, I have come up with these 3 models that are considerable."
   ]
  },
  {
   "cell_type": "markdown",
   "metadata": {},
   "source": [
    "### Model Building and Comparison"
   ]
  },
  {
   "cell_type": "code",
   "execution_count": 399,
   "metadata": {},
   "outputs": [
    {
     "data": {
      "text/plain": [
       "\n",
       "Call:\n",
       "lm(formula = P17 ~ P49 + P14, data = p_data)\n",
       "\n",
       "Residuals:\n",
       "    Min      1Q  Median      3Q     Max \n",
       "-4.0566 -1.0849  0.3872  1.1934  2.8785 \n",
       "\n",
       "Coefficients:\n",
       "            Estimate Std. Error t value Pr(>|t|)    \n",
       "(Intercept)   9.8402     0.9098  10.815 1.08e-11 ***\n",
       "P49          -0.4838     0.1418  -3.412  0.00192 ** \n",
       "P14          -0.2999     0.1037  -2.892  0.00718 ** \n",
       "---\n",
       "Signif. codes:  0 '***' 0.001 '**' 0.01 '*' 0.05 '.' 0.1 ' ' 1\n",
       "\n",
       "Residual standard error: 1.866 on 29 degrees of freedom\n",
       "Multiple R-squared:  0.4337,\tAdjusted R-squared:  0.3947 \n",
       "F-statistic: 11.11 on 2 and 29 DF,  p-value: 0.0002624\n"
      ]
     },
     "metadata": {},
     "output_type": "display_data"
    }
   ],
   "source": [
    "model6 <- lm(P17 ~ P49 + P14, data = p_data)\n",
    "summary(model6)"
   ]
  },
  {
   "cell_type": "markdown",
   "metadata": {},
   "source": [
    "Here, we can see that both the predictor variable P14 and P49 combined are highly significant and negatively correlated. Also, it explains 39% of errors which is better than previous models."
   ]
  },
  {
   "cell_type": "code",
   "execution_count": 583,
   "metadata": {},
   "outputs": [
    {
     "data": {
      "text/plain": [
       "\n",
       "Call:\n",
       "lm(formula = P17 ~ P41 + P42 + P43 + P48 + P49 + P50, data = p_data)\n",
       "\n",
       "Residuals:\n",
       "    Min      1Q  Median      3Q     Max \n",
       "-2.4237 -1.2040 -0.0364  1.0338  3.5364 \n",
       "\n",
       "Coefficients:\n",
       "            Estimate Std. Error t value Pr(>|t|)    \n",
       "(Intercept)  9.77073    1.52521   6.406 1.05e-06 ***\n",
       "P41          0.27519    0.11648   2.363  0.02624 *  \n",
       "P42         -0.20452    0.09645  -2.121  0.04406 *  \n",
       "P43         -0.24694    0.13694  -1.803  0.08341 .  \n",
       "P48         -0.34001    0.14573  -2.333  0.02798 *  \n",
       "P49         -0.45035    0.14905  -3.022  0.00573 ** \n",
       "P50          0.30519    0.12204   2.501  0.01931 *  \n",
       "---\n",
       "Signif. codes:  0 '***' 0.001 '**' 0.01 '*' 0.05 '.' 0.1 ' ' 1\n",
       "\n",
       "Residual standard error: 1.762 on 25 degrees of freedom\n",
       "Multiple R-squared:  0.565,\tAdjusted R-squared:  0.4606 \n",
       "F-statistic: 5.411 on 6 and 25 DF,  p-value: 0.00106\n"
      ]
     },
     "metadata": {},
     "output_type": "display_data"
    }
   ],
   "source": [
    "model7 <- lm(P17 ~ P41 + P42 + P43 + P48 + P49 + P50, data = p_data)\n",
    "summary(model7)"
   ]
  },
  {
   "cell_type": "markdown",
   "metadata": {},
   "source": [
    "Here, we can see that there are 4 variables P42, P43, P48, P49 that are negatively correlated whereas P41 and P50 are positively correlated. Also, it has a highly significant p-value. However, the most important aspect of this model is that it explains errors(46%) far better than any other model."
   ]
  },
  {
   "cell_type": "code",
   "execution_count": 584,
   "metadata": {},
   "outputs": [
    {
     "data": {
      "text/html": [
       "<table>\n",
       "<thead><tr><th scope=col>Res.Df</th><th scope=col>RSS</th><th scope=col>Df</th><th scope=col>Sum of Sq</th><th scope=col>F</th><th scope=col>Pr(&gt;F)</th></tr></thead>\n",
       "<tbody>\n",
       "\t<tr><td>30         </td><td>130.11648  </td><td>NA         </td><td>      NA   </td><td>      NA   </td><td>         NA</td></tr>\n",
       "\t<tr><td>29         </td><td>100.98402  </td><td> 1         </td><td>29.13247   </td><td>9.388170   </td><td>0.005174695</td></tr>\n",
       "\t<tr><td>25         </td><td> 77.57759  </td><td> 4         </td><td>23.40642   </td><td>1.885727   </td><td>0.144314133</td></tr>\n",
       "</tbody>\n",
       "</table>\n"
      ],
      "text/latex": [
       "\\begin{tabular}{r|llllll}\n",
       " Res.Df & RSS & Df & Sum of Sq & F & Pr(>F)\\\\\n",
       "\\hline\n",
       "\t 30          & 130.11648   & NA          &       NA    &       NA    &          NA\\\\\n",
       "\t 29          & 100.98402   &  1          & 29.13247    & 9.388170    & 0.005174695\\\\\n",
       "\t 25          &  77.57759   &  4          & 23.40642    & 1.885727    & 0.144314133\\\\\n",
       "\\end{tabular}\n"
      ],
      "text/markdown": [
       "\n",
       "| Res.Df | RSS | Df | Sum of Sq | F | Pr(>F) |\n",
       "|---|---|---|---|---|---|\n",
       "| 30          | 130.11648   | NA          |       NA    |       NA    |          NA |\n",
       "| 29          | 100.98402   |  1          | 29.13247    | 9.388170    | 0.005174695 |\n",
       "| 25          |  77.57759   |  4          | 23.40642    | 1.885727    | 0.144314133 |\n",
       "\n"
      ],
      "text/plain": [
       "  Res.Df RSS       Df Sum of Sq F        Pr(>F)     \n",
       "1 30     130.11648 NA       NA        NA          NA\n",
       "2 29     100.98402  1 29.13247  9.388170 0.005174695\n",
       "3 25      77.57759  4 23.40642  1.885727 0.144314133"
      ]
     },
     "metadata": {},
     "output_type": "display_data"
    }
   ],
   "source": [
    "anova(model5, model6, model7)"
   ]
  },
  {
   "cell_type": "markdown",
   "metadata": {},
   "source": [
    "Here, we can see that model7 has the least residual sum of squares. So it provides best fit. However, it can be seen that it's p-value is very high compared to model6, which has a significantly low p-value. \n",
    "\n",
    "We know that a good model not only needs to fit data well, it also needs to be parsimonious. So here it is better to select a simpler model6 with 2 predictor variables than model7 with 6 predictor variables. Overall, it can be said that model6 is the best model."
   ]
  },
  {
   "cell_type": "markdown",
   "metadata": {},
   "source": [
    "## Summary"
   ]
  },
  {
   "cell_type": "markdown",
   "metadata": {},
   "source": [
    "Firstly, I tried to understand data by printing first few columns in a tabular form. It showed that there were 50 variables whose values were continuous mostly ranging from 1-10. Then, by applying str() function, I understood the structure of data. All the variables were in numeric form except 2 variables which were converted to numeric. Then, I converted all the NA values to 5 as it was the most neutral value. Consequently, all the values below 1 and all values above 10 were converted to 1 and 10 respectively. \n",
    "\n",
    "After all the data cleaing was done, I selected P17 as my predictor variable, which represented a situation of remaining calm under pressure. Then, I started finding correlation between P17 and other variables and came up with 5 different Simple Linear Regression models. Here, I found out model5 to be most significant. After that, Multiple Linear Regression was performed by selecting different combination of features using backward elimination method. All the models were compared and Model 6 was chosen the best model."
   ]
  },
  {
   "cell_type": "markdown",
   "metadata": {},
   "source": [
    "## Recommendation"
   ]
  },
  {
   "cell_type": "markdown",
   "metadata": {},
   "source": [
    "Based on the analysis of behaviour of college students, I have found out that *Students who are not bothered by the mistakes they made long time ago and the students who can control their emotions are best suitable for staying calm under immense pressure*. So in order to help college students overcome pressure situations, College Counsellors should make the students realise that life is very short and so there is no point being bothered about mistakes and they should know how to control emotions."
   ]
  }
 ],
 "metadata": {
  "kernelspec": {
   "display_name": "Python 3",
   "language": "python",
   "name": "python3"
  },
  "language_info": {
   "codemirror_mode": {
    "name": "ipython",
    "version": 3
   },
   "file_extension": ".py",
   "mimetype": "text/x-python",
   "name": "python",
   "nbconvert_exporter": "python",
   "pygments_lexer": "ipython3",
   "version": "3.7.3"
  }
 },
 "nbformat": 4,
 "nbformat_minor": 4
}
